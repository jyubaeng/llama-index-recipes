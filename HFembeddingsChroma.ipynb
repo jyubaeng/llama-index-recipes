{
 "cells": [
  {
   "cell_type": "code",
   "execution_count": 1,
   "metadata": {},
   "outputs": [],
   "source": [
    "import os\n",
    "os.environ[\"OPENAI_API_KEY\"] = \"sk-\"\n",
    "import openai\n",
    "openai.api_key = \"sk-\""
   ]
  },
  {
   "cell_type": "code",
   "execution_count": 2,
   "metadata": {},
   "outputs": [],
   "source": [
    "import logging\n",
    "import sys\n",
    "import os\n",
    "\n",
    "logging.basicConfig(stream=sys.stdout, level=logging.INFO)\n",
    "logging.getLogger().addHandler(logging.StreamHandler(stream=sys.stdout))"
   ]
  },
  {
   "cell_type": "code",
   "execution_count": 3,
   "metadata": {},
   "outputs": [],
   "source": [
    "import os\n",
    "os.environ['NUMEXPR_MAX_THREADS'] = '4'\n",
    "os.environ['NUMEXPR_NUM_THREADS'] = '2'\n",
    "import numexpr as ne"
   ]
  },
  {
   "cell_type": "code",
   "execution_count": 4,
   "metadata": {},
   "outputs": [],
   "source": [
    "from llama_index import SimpleDirectoryReader\n",
    "documents = SimpleDirectoryReader('assets/AndrewHuberman/sleep', filename_as_id=True).load_data()"
   ]
  },
  {
   "cell_type": "code",
   "execution_count": 5,
   "metadata": {},
   "outputs": [
    {
     "name": "stderr",
     "output_type": "stream",
     "text": [
      "/Users/jana/work/LlamaIndexLangChain/llamaindexscripts/myenv/lib/python3.9/site-packages/tqdm/auto.py:21: TqdmWarning: IProgress not found. Please update jupyter and ipywidgets. See https://ipywidgets.readthedocs.io/en/stable/user_install.html\n",
      "  from .autonotebook import tqdm as notebook_tqdm\n"
     ]
    },
    {
     "name": "stdout",
     "output_type": "stream",
     "text": [
      "INFO:sentence_transformers.SentenceTransformer:Load pretrained SentenceTransformer: sentence-transformers/all-mpnet-base-v2\n",
      "Load pretrained SentenceTransformer: sentence-transformers/all-mpnet-base-v2\n",
      "INFO:sentence_transformers.SentenceTransformer:Use pytorch device: cpu\n",
      "Use pytorch device: cpu\n"
     ]
    }
   ],
   "source": [
    "from langchain.embeddings.huggingface import HuggingFaceEmbeddings\n",
    "from llama_index.embeddings import LangchainEmbedding\n",
    "embed_model = LangchainEmbedding(\n",
    "    HuggingFaceEmbeddings(model_name=\"sentence-transformers/all-mpnet-base-v2\")\n",
    ")"
   ]
  },
  {
   "cell_type": "code",
   "execution_count": 8,
   "metadata": {},
   "outputs": [
    {
     "name": "stdout",
     "output_type": "stream",
     "text": [
      "INFO:chromadb.telemetry.posthog:Anonymized telemetry enabled. See https://docs.trychroma.com/telemetry for more information.\n",
      "Anonymized telemetry enabled. See https://docs.trychroma.com/telemetry for more information.\n"
     ]
    },
    {
     "name": "stderr",
     "output_type": "stream",
     "text": [
      "Batches: 100%|██████████| 1/1 [00:03<00:00,  3.08s/it]\n",
      "Batches: 100%|██████████| 1/1 [00:02<00:00,  2.97s/it]\n",
      "Batches: 100%|██████████| 1/1 [00:03<00:00,  3.09s/it]\n",
      "Batches: 100%|██████████| 1/1 [00:02<00:00,  2.96s/it]\n",
      "Batches: 100%|██████████| 1/1 [00:02<00:00,  2.99s/it]\n",
      "Batches: 100%|██████████| 1/1 [00:02<00:00,  2.99s/it]\n",
      "Batches: 100%|██████████| 1/1 [00:02<00:00,  2.95s/it]\n",
      "Batches: 100%|██████████| 1/1 [00:02<00:00,  2.95s/it]\n",
      "Batches: 100%|██████████| 1/1 [00:03<00:00,  3.10s/it]\n",
      "Batches: 100%|██████████| 1/1 [00:02<00:00,  2.99s/it]\n",
      "Batches: 100%|██████████| 1/1 [00:02<00:00,  2.95s/it]\n",
      "Batches: 100%|██████████| 1/1 [00:03<00:00,  3.08s/it]\n",
      "Batches: 100%|██████████| 1/1 [00:02<00:00,  2.99s/it]\n",
      "Batches: 100%|██████████| 1/1 [00:00<00:00,  1.72it/s]\n"
     ]
    }
   ],
   "source": [
    "from llama_index.vector_stores import ChromaVectorStore\n",
    "from llama_index import VectorStoreIndex, ServiceContext\n",
    "from llama_index.storage.storage_context import StorageContext\n",
    "\n",
    "import chromadb\n",
    "\n",
    "db = chromadb.PersistentClient(path=\"./storage/chroma\")\n",
    "chroma_collection = db.get_or_create_collection(\"andrew_sleeping_database\")\n",
    "\n",
    "service_context = ServiceContext.from_defaults(embed_model=embed_model)\n",
    "vector_store = ChromaVectorStore(chroma_collection=chroma_collection)\n",
    "storage_context = StorageContext.from_defaults(vector_store=vector_store)\n",
    "index = VectorStoreIndex.from_documents(documents, storage_context=storage_context, service_context=service_context)"
   ]
  },
  {
   "cell_type": "code",
   "execution_count": 9,
   "metadata": {},
   "outputs": [
    {
     "name": "stderr",
     "output_type": "stream",
     "text": [
      "Batches: 100%|██████████| 1/1 [00:00<00:00, 29.68it/s]\n"
     ]
    },
    {
     "name": "stdout",
     "output_type": "stream",
     "text": [
      "Sunlight affects sleep by influencing the circadian rhythm, which regulates the sleep-wake cycle. Exposure to sunlight in the morning helps to synchronize the internal body clock and promotes alertness and wakefulness during the day. Sunlight also helps to suppress the production of melatonin, a hormone that promotes sleep, making it easier to stay awake and alert. On the other hand, exposure to bright light in the evening or at night can disrupt the circadian rhythm and make it more difficult to fall asleep. It is important to maintain a regular sleep schedule and limit exposure to bright light, especially in the evening, to promote healthy sleep patterns.\n"
     ]
    }
   ],
   "source": [
    "query_engine = index.as_query_engine()\n",
    "response = query_engine.query(\"How does sun light affect sleep?\")\n",
    "print(response)"
   ]
  }
 ],
 "metadata": {
  "kernelspec": {
   "display_name": "myenv",
   "language": "python",
   "name": "python3"
  },
  "language_info": {
   "codemirror_mode": {
    "name": "ipython",
    "version": 3
   },
   "file_extension": ".py",
   "mimetype": "text/x-python",
   "name": "python",
   "nbconvert_exporter": "python",
   "pygments_lexer": "ipython3",
   "version": "3.9.6"
  },
  "orig_nbformat": 4
 },
 "nbformat": 4,
 "nbformat_minor": 2
}
