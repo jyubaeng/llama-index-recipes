{
 "cells": [
  {
   "cell_type": "code",
   "execution_count": 2,
   "metadata": {},
   "outputs": [],
   "source": [
    "import logging\n",
    "import sys\n",
    "import os\n",
    "\n",
    "logging.basicConfig(stream=sys.stdout, level=logging.INFO)\n",
    "logging.getLogger().addHandler(logging.StreamHandler(stream=sys.stdout))"
   ]
  },
  {
   "cell_type": "code",
   "execution_count": 3,
   "metadata": {},
   "outputs": [],
   "source": [
    "import os\n",
    "os.environ['NUMEXPR_MAX_THREADS'] = '4'\n",
    "os.environ['NUMEXPR_NUM_THREADS'] = '2'\n",
    "import numexpr as ne"
   ]
  },
  {
   "cell_type": "code",
   "execution_count": 4,
   "metadata": {},
   "outputs": [],
   "source": [
    "import os\n",
    "os.environ[\"OPENAI_API_KEY\"] = \"sk-xxx\"\n",
    "import openai\n",
    "openai.api_key = \"sk-xxx\""
   ]
  },
  {
   "cell_type": "code",
   "execution_count": 7,
   "metadata": {},
   "outputs": [],
   "source": [
    "from llama_index import SimpleDirectoryReader\n",
    "documents = SimpleDirectoryReader('assets/AndrewHuberman/sleep', filename_as_id=True).load_data()"
   ]
  },
  {
   "cell_type": "code",
   "execution_count": null,
   "metadata": {},
   "outputs": [],
   "source": [
    "print(documents)"
   ]
  },
  {
   "cell_type": "code",
   "execution_count": null,
   "metadata": {},
   "outputs": [],
   "source": [
    "import chromadb\n",
    "chroma_client = chromadb.EphemeralClient()\n",
    "chroma_collection = chroma_client.create_collection(\"andrew_sleep_db\")"
   ]
  },
  {
   "cell_type": "code",
   "execution_count": 8,
   "metadata": {},
   "outputs": [],
   "source": [
    "from llama_index.vector_stores import ChromaVectorStore\n",
    "from llama_index import VectorStoreIndex\n",
    "from llama_index.storage.storage_context import StorageContext"
   ]
  },
  {
   "cell_type": "code",
   "execution_count": 11,
   "metadata": {},
   "outputs": [
    {
     "name": "stdout",
     "output_type": "stream",
     "text": [
      "INFO:chromadb.telemetry.posthog:Anonymized telemetry enabled. See https://docs.trychroma.com/telemetry for more information.\n",
      "Anonymized telemetry enabled. See https://docs.trychroma.com/telemetry for more information.\n"
     ]
    }
   ],
   "source": [
    "db = chromadb.PersistentClient(path=\"./storage/chroma\")\n",
    "chroma_collection = db.get_or_create_collection(\"andrew_sleep_db\")\n",
    "\n",
    "vector_store = ChromaVectorStore(chroma_collection=chroma_collection)\n",
    "storage_context = StorageContext.from_defaults(vector_store=vector_store)\n",
    "index = VectorStoreIndex.from_vector_store(vector_store=vector_store, storage_context=storage_context)"
   ]
  },
  {
   "cell_type": "code",
   "execution_count": 19,
   "metadata": {},
   "outputs": [
    {
     "name": "stdout",
     "output_type": "stream",
     "text": [
      "{'ids': [['65df8d15-eb4a-4f82-bc7f-1cb2996bd798', '333f7c97-50e4-4991-a48e-f0342a661b8e']], 'distances': [[0.3660924434661865, 0.36859169602394104]], 'metadatas': [[{'_node_content': '{\"id_\": \"65df8d15-eb4a-4f82-bc7f-1cb2996bd798\", \"embedding\": null, \"metadata\": {}, \"excluded_embed_metadata_keys\": [], \"excluded_llm_metadata_keys\": [], \"relationships\": {\"1\": {\"node_id\": \"assets/AndrewHuberman/sleep/115_Dr_Gina_Poe_Use_Sleep_to_Enhance_Learning_Memory_&_Emotional_State_Huberman_Lab_Podcast.txt\", \"node_type\": null, \"metadata\": {}, \"hash\": \"fbcacda02d943cacab9cdd5d314b1865ca59a36997b288e52d3c59fd535a314b\"}, \"2\": {\"node_id\": \"fddaa338-a559-456a-854b-df1513c36dde\", \"node_type\": null, \"metadata\": {}, \"hash\": \"76e97c80f2973fe2beacba3e84b1bfc1c9fe6b1b1df035303bdfee8010e39604\"}, \"3\": {\"node_id\": \"dc4177bc-aba5-4d0d-bc52-62bea388e2fd\", \"node_type\": null, \"metadata\": {}, \"hash\": \"74bee07104321e80ae759823e569544910bfb938408b9c28f46ea1d72efba2fe\"}}, \"hash\": \"9e2b0e1383a0735117a5b6dd709d8026a0b568c8fbaf454124f8ff5fd1663b5c\", \"text\": \"\", \"start_char_idx\": null, \"end_char_idx\": null, \"text_template\": \"{metadata_str}\\\\n\\\\n{content}\", \"metadata_template\": \"{key}: {value}\", \"metadata_seperator\": \"\\\\n\"}', 'doc_id': 'assets/AndrewHuberman/sleep/115_Dr_Gina_Poe_Use_Sleep_to_Enhance_Learning_Memory_&_Emotional_State_Huberman_Lab_Podcast.txt', 'document_id': 'assets/AndrewHuberman/sleep/115_Dr_Gina_Poe_Use_Sleep_to_Enhance_Learning_Memory_&_Emotional_State_Huberman_Lab_Podcast.txt', 'ref_doc_id': 'assets/AndrewHuberman/sleep/115_Dr_Gina_Poe_Use_Sleep_to_Enhance_Learning_Memory_&_Emotional_State_Huberman_Lab_Podcast.txt'}, {'_node_content': '{\"id_\": \"333f7c97-50e4-4991-a48e-f0342a661b8e\", \"embedding\": null, \"metadata\": {}, \"excluded_embed_metadata_keys\": [], \"excluded_llm_metadata_keys\": [], \"relationships\": {\"1\": {\"node_id\": \"assets/AndrewHuberman/sleep/04_Find_Your_Temperature_Minimum_to_Defeat_Jetlag_Shift_Work_&_Sleeplessness_Huberman_Lab_Podcast_4.txt\", \"node_type\": null, \"metadata\": {}, \"hash\": \"c7c5463e42101f4923bbc7860db309886ff42939d2be149901894bc7207a6999\"}, \"2\": {\"node_id\": \"39f211d7-d0f4-402a-a403-09f7301945f1\", \"node_type\": null, \"metadata\": {}, \"hash\": \"43f90973b6343acd037b8a8320ffbd4ff37925bdcc60383321b04dd37bd9f465\"}, \"3\": {\"node_id\": \"85e134cc-f5b8-455d-ad89-063226af1c09\", \"node_type\": null, \"metadata\": {}, \"hash\": \"b2530427ab66e9db9bfce69ef8c5728bb165f8e31f48eb18df770b3f3ac31049\"}}, \"hash\": \"908305856aec4c9d46e2da87da9acbc3772edc18106bc1542052d441b05b1afa\", \"text\": \"\", \"start_char_idx\": null, \"end_char_idx\": null, \"text_template\": \"{metadata_str}\\\\n\\\\n{content}\", \"metadata_template\": \"{key}: {value}\", \"metadata_seperator\": \"\\\\n\"}', 'doc_id': 'assets/AndrewHuberman/sleep/04_Find_Your_Temperature_Minimum_to_Defeat_Jetlag_Shift_Work_&_Sleeplessness_Huberman_Lab_Podcast_4.txt', 'document_id': 'assets/AndrewHuberman/sleep/04_Find_Your_Temperature_Minimum_to_Defeat_Jetlag_Shift_Work_&_Sleeplessness_Huberman_Lab_Podcast_4.txt', 'ref_doc_id': 'assets/AndrewHuberman/sleep/04_Find_Your_Temperature_Minimum_to_Defeat_Jetlag_Shift_Work_&_Sleeplessness_Huberman_Lab_Podcast_4.txt'}]], 'embeddings': None, 'documents': [[\"We sort of used to ignore sleep researchers because it was a transient State between wakefulness and the Deep stage, three slow way, sleep, which is the most impressively different and then, and between that and REM, sleep.So stage two I'll talk a little bit more about and then the Deep slow way sleep state, which is when big, slow waves sweep through our brain, and now we realize that it cleans our brain.One of the things that those big slow waves do is cleans.Our brain and does other really important things to restore us um from a day of wakefulness and then REM, sleep which is the most popular because that’s where we have the most active dreams and um.When you wake up someone out of REM, sleep they'll almost always report having dreams.Something really bizarre.That’s called REM, sleep, rapid eye movement, sleep, so those are the four states of sleep of human sleep and we cycle through them every 90 minutes or so when we go to sleep, say: 10.10, 30.11 o'clock, our first REM, sleep period, comes about a hundred and five minutes after we fall asleep and lasts about 20 minutes.Actually, it comes about 95 minutes and last 10 or 15 minutes, and then we start over again and we have about five of those per night for a perfect night's sleep, four or five.Something like that.So A Perfect night's sleep is seven and a half eight hours.There was a really great study that put people in a semi- darkened room with nothing, but the bed for 12 hours every day for a month, and what people did initially is because, because we're in a sleep, deprived nation, is that they slept a lot more than usual.Like 10 or 11 hours of the 12, and then they leveled off after a week or two to about eight hours and 15 minutes of sleep, so you actually can't oversleep.I mean they had nothing else to do butt sleep and they would round off to on average, eight hours and 15 minutes a night and then to spend the rest of the Time twiddling their thumbs, humming Tunes, interesting daydreaming.I want to get back to the Contour of a perfect night's sleep, but I'm intrigued by this idea that people can't oversleep I'm often asked whether or not we can get too much sleep and whether or not sleeping too long long excuse me can make us groggy.The next day is there anything to that um and how does one determine how long they should sleep right on average on average yeah?Well, that’s interesting because different people need seem to need different amounts of sleep, but we don't really even know exactly what sleep is for.So what they need is you know kind of it’s it’s.You know Mercury murky um, so we do know a lot of things that sleep does now for us, but we don't know how long those things take.So how long we need to sleep is also just a big question mark, but some people don't feel rested until they've slept nine hours and some people don't feel rested after three or four and a half, but most people if they consistently deprive themselves of sleep so That they're only sleeping four four and a half hours a night build up a cognitive deficit that just builds up over time.The more nights you have with sleep deprivation, the more cognitive deficit you have, and so you need sleep again to sleep more to recover.Now the question you had about um: can you over?Can you oversleep right?Can you sleep to the point where it’s too much?You know that we I growing up um when I was in high school.My girlfriend's dad had this belief that no one should sleep in past 6 a.m, so he would wake all the there were two children in that home.He would wake up the kids in that house.He had to sing Against over sleeping regardless of when people went, went to sleep, and I always thought that was um, an interesting mentality, yeah um, that’s not terrible.Actually, because what that will do is it'll put you make you sleepier the next night to get to bed on time, so it'll build up your homeostatic need if you wake up too early but um, so I don't think you can oversleep, but people who sleep a Lot like people who sleep over nine hours, it’s probably indicative of some other problem, because, in fact, if you have a lot of different conditions, it will cause you to sleep a lot more, probably because what it does is it interferes with your efficient sleep.The efficiency of your sleep, so if you find yourself sleep being consistently nine hours plus every night, then you might want to consult a doctor about maybe what else it might be.It could be cancer, it could be sleep apnea that just affects a lot of people.\", \"So you would say that person should watch the setting sun to help them wake up 'cause they're going to work the night shift, but should probably have sunglasses on or avoid viewing bright light before they go to sleep.So it's the same thing.They're just on an inverted as a typical person who's diurnal, but they're on an inverted schedule.And so I'm really trying hard here to make this all really clear.There are kind of two patterns of requests in the world I'm noticing as I've kind of ventured into the this landscape of social media and podcasts.There are people who want to know every detail and want to quantify everything 'cause they want to get exactly right.These are like the graduate students and students that don't want to make a mistake.And to quote my graduate advisor, provided the mistakes are not dangerous, certainly not lethal, you kind of want to make a few little mistakes so that you can adjust, right?You don't want to endanger yourself.But it's actually, you're not going to get things perfect, that's called learning.Learning is when you realize, ah, I viewed the sun this time and then I stayed up and it really messed me up, I'll never do that again.The other category of people seem to want the one size fits all kind of like give me this pill or give me this protocol.And those things generally work but they don't afford people flexibility.And if there's anything like that, it's this temperature minimum thing that I've been just hammering on again and again and again today because it's something that you own and that you can really use as a key landmark for shifting your clock.I suppose there's a third category, which is, people accept that biological systems are actually much more forgiving than the way they're sometimes described.And I'm going to use this as an opportunity to editorialize a little bit.You know, there's so much made of sleep debt.Look there isn't an IRS equivalent for sleep.They're not going to come around and try and collect all the sleep that you didn't get.No one really knows what the consequences are going to be for you and for me and for the next person for the sleep you didn't get.You can't really recover the sleep you missed out on, but you also don't want to get neurotically attached to a schedule because there's this thing called sleep anxiety and then people have trouble falling asleep and staying asleep.So I want to spend a moment on that and go back to a theme that I've said many times before, because these tools work what I called NSDR, non-sleep deep rest.So this would be hypnosis, I gave you the link, but I'll say it again, reveriehealth.com for clinically tested, research tested free hypnosis for anxiety but also for sleep.Those are very beneficial people.NSDR protocols, non-sleep deep rest protocols for things like yoga nidra, I provided some links to those in the caption for episode two.These things really work.Last night, I woke up, I went to bed about 10:30, I woke up at three in the morning, I knew I wasn't feeling rested.I did a NSDR protocol, I fell back asleep, I woke up at 6:30, okay.You need to teach your brain and your nervous system how to turn off your thoughts and go to sleep.And ideally you do that without medication unless there's a real need, you do that through these behavioral protocols.They work because they involve using the body to shift the mind not trying to just turn off your thoughts in the middle of the night.Now there are periods of life where things are stressful and people are concerned and you will have some struggle getting and staying asleep.And there's, that really has to do more with anxiety which NSDR protocols also can help with.As I always say, do them in the middle of the night if you wake up and you want to go back to sleep during the middle of the day, to teach your nervous system to calm down and do them first thing in the morning if you didn't feel you got enough sleep.In other words, do them whenever you have an opportunity to do them because they really can help you learn how to turn on the parasympathetic/calming arm of your autonomic nervous system.There's no other way that I'm aware of to teach your system to slow down and turn off your thoughts and go back to sleep.But these are powerful protocols, and there's a lot of research now to support the fact that they can really help.Meditation would be another example.Certain kinds of meditation involve focus and alertness.Those are slightly different than meditations that involve lack of focus and attention to say internal states.I'm going to pause there, and then I want to talk about kids and the elderly.\"]]}\n"
     ]
    }
   ],
   "source": [
    "from llama_index.embeddings import OpenAIEmbedding\n",
    "embed_model = OpenAIEmbedding()\n",
    "search_text = \"something\"\n",
    "embedding = embed_model.get_text_embedding(search_text)\n",
    "\n",
    "results = chroma_collection.query(\n",
    "    query_embeddings=[embedding],\n",
    "    n_results=2\n",
    ")\n",
    "print(results)"
   ]
  },
  {
   "cell_type": "code",
   "execution_count": 16,
   "metadata": {},
   "outputs": [],
   "source": [
    "query_engine = index.as_query_engine()"
   ]
  },
  {
   "cell_type": "code",
   "execution_count": 18,
   "metadata": {},
   "outputs": [
    {
     "name": "stdout",
     "output_type": "stream",
     "text": [
      "Temperature can have a significant impact on sleep. Lowering the temperature in the sleeping environment, either by adjusting the room temperature or using a controllable mattress cover, can naturally make the sleep environment cooler. This can help in falling asleep and staying asleep. If a person feels too warm under the blankets, they can extend a hand or foot out from under the blankets to cool off, as the palms of the hands, the upper half of the face, and the bottoms of the feet have special portals for passing heat. On the other hand, if the room is too warm, it can be difficult to cool off, and pushing off the blankets may not be sufficient. It is generally recommended to sleep in a relatively cool or cold environment and layer on blankets as needed. Additionally, lowering core body temperature by taking a hot shower or bath and then cooling off can help in falling asleep.\n"
     ]
    }
   ],
   "source": [
    "response = query_engine.query(\"How does temperature affect sleep?\")\n",
    "print(response)"
   ]
  }
 ],
 "metadata": {
  "kernelspec": {
   "display_name": "myenv",
   "language": "python",
   "name": "python3"
  },
  "language_info": {
   "codemirror_mode": {
    "name": "ipython",
    "version": 3
   },
   "file_extension": ".py",
   "mimetype": "text/x-python",
   "name": "python",
   "nbconvert_exporter": "python",
   "pygments_lexer": "ipython3",
   "version": "3.9.6"
  },
  "orig_nbformat": 4
 },
 "nbformat": 4,
 "nbformat_minor": 2
}
